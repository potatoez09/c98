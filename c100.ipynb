{
  "nbformat": 4,
  "nbformat_minor": 0,
  "metadata": {
    "colab": {
      "provenance": [],
      "authorship_tag": "ABX9TyNZWbngDSoCzcjbYe6244KN",
      "include_colab_link": true
    },
    "kernelspec": {
      "name": "python3",
      "display_name": "Python 3"
    },
    "language_info": {
      "name": "python"
    }
  },
  "cells": [
    {
      "cell_type": "markdown",
      "metadata": {
        "id": "view-in-github",
        "colab_type": "text"
      },
      "source": [
        "<a href=\"https://colab.research.google.com/github/potatoez09/c98/blob/main/c100.ipynb\" target=\"_parent\"><img src=\"https://colab.research.google.com/assets/colab-badge.svg\" alt=\"Open In Colab\"/></a>"
      ]
    },
    {
      "cell_type": "code",
      "execution_count": 2,
      "metadata": {
        "colab": {
          "base_uri": "https://localhost:8080/"
        },
        "id": "B4NqXlWRXzkT",
        "outputId": "6b68bba0-8e0e-4acd-cd20-82c8b7eb010c"
      },
      "outputs": [
        {
          "output_type": "execute_result",
          "data": {
            "text/plain": [
              "str"
            ]
          },
          "metadata": {},
          "execution_count": 2
        }
      ],
      "source": [
        "name = \"hrushikesh\"\n",
        "type(name)"
      ]
    },
    {
      "cell_type": "code",
      "source": [
        "info = []\n",
        "type(info)"
      ],
      "metadata": {
        "colab": {
          "base_uri": "https://localhost:8080/"
        },
        "id": "UQnFuKI8YueW",
        "outputId": "adeb0003-ea5a-463d-b116-25227cb7e943"
      },
      "execution_count": 5,
      "outputs": [
        {
          "output_type": "execute_result",
          "data": {
            "text/plain": [
              "list"
            ]
          },
          "metadata": {},
          "execution_count": 5
        }
      ]
    },
    {
      "cell_type": "code",
      "source": [
        "person = {\n",
        "\n",
        "}\n",
        "type(person)"
      ],
      "metadata": {
        "colab": {
          "base_uri": "https://localhost:8080/"
        },
        "id": "ouP34jhxY4jq",
        "outputId": "1afd18c5-ca34-4e9e-fc6a-b6c45ade32c3"
      },
      "execution_count": 7,
      "outputs": [
        {
          "output_type": "execute_result",
          "data": {
            "text/plain": [
              "dict"
            ]
          },
          "metadata": {},
          "execution_count": 7
        }
      ]
    },
    {
      "cell_type": "code",
      "source": [
        "person = {\n",
        "    \"name\":\"hrushikesh\",\n",
        "    \"mobile\":89275983745,\n",
        "    \"email\":\"abc@gmail.com\",\n",
        "    \"address\":\"crawley\"\n",
        "}\n",
        "print(person[\"address\"])\n",
        "print(person[\"name\"])"
      ],
      "metadata": {
        "colab": {
          "base_uri": "https://localhost:8080/"
        },
        "id": "L0xuCLh7ZIUk",
        "outputId": "59b3343a-6441-4c41-f1c8-96d9af685c81"
      },
      "execution_count": 10,
      "outputs": [
        {
          "output_type": "stream",
          "name": "stdout",
          "text": [
            "crawley\n",
            "hrushikesh\n"
          ]
        }
      ]
    },
    {
      "cell_type": "code",
      "source": [
        "student = {\n",
        "    \"name\":\"ricky\",\n",
        "    \"mobile\":3047598345,\n",
        "    \"class\":\"9rlo\",\n",
        "    \"address\":\"crawley\",\n",
        "    \"marks\":4,\n",
        "}\n",
        "print(student)"
      ],
      "metadata": {
        "colab": {
          "base_uri": "https://localhost:8080/"
        },
        "id": "ZeYQvfdcZ_Hy",
        "outputId": "b9f190fb-f37a-45f8-8e18-a139eca7f920"
      },
      "execution_count": 15,
      "outputs": [
        {
          "output_type": "stream",
          "name": "stdout",
          "text": [
            "{'name': 'ricky', 'mobile': 3047598345, 'class': '9rlo', 'address': 'crawley', 'marks': 4}\n"
          ]
        }
      ]
    },
    {
      "cell_type": "code",
      "source": [
        "class Contact_Details:\n",
        "  def __init__(self,name,mobile_number,email,address):\n",
        "    self.contact_name = name\n",
        "    self.contact_number = mobile_number\n",
        "    self.email = email\n",
        "    self.contact_address = address\n",
        "\n",
        "    self.person = {\n",
        "        \"name\":self.contact_name,\n",
        "        \"mobile\":self.contact_number,\n",
        "        \"email\":self.email,\n",
        "        \"address\":self.contact_address,\n",
        "    }\n",
        "\n",
        "  def view_contact_details(self,contact_list):\n",
        "    print(contact_list)\n",
        "\n",
        "  def add_contact_details(self,contact_list):\n",
        "    contact_list.append(self.person)\n",
        "\n",
        "phonebook_list = []\n",
        "\n",
        "new_contact = Contact_Details(\"hrushi\",985455453,\"abc@gmail.com\",\"west sussex\")\n",
        "\n",
        "new_contact.add_contact_details(phonebook_list)\n",
        "new_contact.view_contact_details(phonebook_list)"
      ],
      "metadata": {
        "colab": {
          "base_uri": "https://localhost:8080/"
        },
        "id": "V2sCLgZ0a0tj",
        "outputId": "3869e54e-8c03-4cdc-c1ef-f31876f90977"
      },
      "execution_count": 22,
      "outputs": [
        {
          "output_type": "stream",
          "name": "stdout",
          "text": [
            "[{'name': 'hrushi', 'mobile': 985455453, 'email': 'abc@gmail.com', 'address': 'west sussex'}]\n"
          ]
        }
      ]
    },
    {
      "cell_type": "code",
      "source": [
        "new_contact = Contact_Details(\"nishanth\",123456789,\"dpa@gmail.com\",\"east sussex\")\n",
        "new_contact.add_contact_details(phonebook_list)\n",
        "new_contact.view_contact_details(phonebook_list)"
      ],
      "metadata": {
        "colab": {
          "base_uri": "https://localhost:8080/"
        },
        "id": "LhHGDcRLgRvc",
        "outputId": "0afd7747-e1cb-45dc-c479-48fb807ebf92"
      },
      "execution_count": 24,
      "outputs": [
        {
          "output_type": "stream",
          "name": "stdout",
          "text": [
            "[{'name': 'hrushi', 'mobile': 985455453, 'email': 'abc@gmail.com', 'address': 'west sussex'}, {'name': 'nishanth', 'mobile': 123456789, 'email': 'dpa@gmail.com', 'address': 'east sussex'}, {'name': 'nishanth', 'mobile': 123456789, 'email': 'dpa@gmail.com', 'address': 'east sussex'}]\n"
          ]
        }
      ]
    },
    {
      "cell_type": "code",
      "source": [
        "new_contact = Contact_Details(\"yash\",987654321,\"ksh@gmail.com\",\"north sussex\")\n",
        "new_contact.add_contact_details(phonebook_list)\n",
        "new_contact.view_contact_details(phonebook_list)"
      ],
      "metadata": {
        "colab": {
          "base_uri": "https://localhost:8080/"
        },
        "id": "MdcxAgaIgaQz",
        "outputId": "6ffda6eb-294d-4e2e-c4f2-82e43435c119"
      },
      "execution_count": 25,
      "outputs": [
        {
          "output_type": "stream",
          "name": "stdout",
          "text": [
            "[{'name': 'hrushi', 'mobile': 985455453, 'email': 'abc@gmail.com', 'address': 'west sussex'}, {'name': 'nishanth', 'mobile': 123456789, 'email': 'dpa@gmail.com', 'address': 'east sussex'}, {'name': 'nishanth', 'mobile': 123456789, 'email': 'dpa@gmail.com', 'address': 'east sussex'}, {'name': 'yash', 'mobile': 987654321, 'email': 'ksh@gmail.com', 'address': 'north sussex'}]\n"
          ]
        }
      ]
    }
  ]
}