{
  "nbformat": 4,
  "nbformat_minor": 0,
  "metadata": {
    "colab": {
      "provenance": [],
      "authorship_tag": "ABX9TyOQCDntaiB3fr/wD6yCaO6Z",
      "include_colab_link": true
    },
    "kernelspec": {
      "name": "python3",
      "display_name": "Python 3"
    },
    "language_info": {
      "name": "python"
    }
  },
  "cells": [
    {
      "cell_type": "markdown",
      "metadata": {
        "id": "view-in-github",
        "colab_type": "text"
      },
      "source": [
        "<a href=\"https://colab.research.google.com/github/potatoez09/c98/blob/main/c99.ipynb\" target=\"_parent\"><img src=\"https://colab.research.google.com/assets/colab-badge.svg\" alt=\"Open In Colab\"/></a>"
      ]
    },
    {
      "cell_type": "code",
      "execution_count": 2,
      "metadata": {
        "colab": {
          "base_uri": "https://localhost:8080/"
        },
        "id": "CUVtTwtcEzhT",
        "outputId": "2a436e9e-53d7-4340-800c-70c9742b3ebf"
      },
      "outputs": [
        {
          "output_type": "stream",
          "name": "stdout",
          "text": [
            "*\n",
            "* *\n",
            "* * *\n",
            "* * * *\n",
            "* * * * *\n"
          ]
        }
      ],
      "source": [
        "print(\"*\")\n",
        "print(\"* *\")\n",
        "print(\"* * *\")\n",
        "print(\"* * * *\")\n",
        "print(\"* * * * *\")"
      ]
    },
    {
      "cell_type": "code",
      "source": [
        "user = int(input(\"enter the number of rows: \"))\n",
        "for i in range(0,user):\n",
        "  for j in range(0,i+1):\n",
        "    print(\"*\",end=\" \")\n",
        "  print()"
      ],
      "metadata": {
        "colab": {
          "base_uri": "https://localhost:8080/"
        },
        "id": "Ad4zE-W7FpV0",
        "outputId": "dc5792e3-dcba-4bc6-f0fe-a2cbda4715ec"
      },
      "execution_count": 20,
      "outputs": [
        {
          "output_type": "stream",
          "name": "stdout",
          "text": [
            "enter the number of rows: 5\n",
            "* \n",
            "* * \n",
            "* * * \n",
            "* * * * \n",
            "* * * * * \n"
          ]
        }
      ]
    },
    {
      "cell_type": "code",
      "source": [
        "user_input = int(input(\"enter your number\"))\n",
        "for i in range(0,user_input):\n",
        "  for j in range(0,i+1):\n",
        "    print(j,end=\" \")\n",
        "  print()"
      ],
      "metadata": {
        "colab": {
          "base_uri": "https://localhost:8080/"
        },
        "id": "nq6qt8jPHF38",
        "outputId": "6314f4d2-0041-4b4a-f1b7-d45887982d02"
      },
      "execution_count": 17,
      "outputs": [
        {
          "output_type": "stream",
          "name": "stdout",
          "text": [
            "enter your number3\n",
            "0 \n",
            "0 1 \n",
            "0 1 2 \n"
          ]
        }
      ]
    },
    {
      "cell_type": "code",
      "source": [
        "user_input = int(input(\"enter your number\"))\n",
        "for i in range(0,user_input):\n",
        "  for j in range(1,i+1):\n",
        "    print(j,end=\" \")\n",
        "  print()"
      ],
      "metadata": {
        "colab": {
          "base_uri": "https://localhost:8080/"
        },
        "id": "mqKqu4maHrMi",
        "outputId": "345afb7e-8e35-40c5-a8f9-f1e32302e305"
      },
      "execution_count": 21,
      "outputs": [
        {
          "output_type": "stream",
          "name": "stdout",
          "text": [
            "enter your number5\n",
            "\n",
            "1 \n",
            "1 2 \n",
            "1 2 3 \n",
            "1 2 3 4 \n"
          ]
        }
      ]
    },
    {
      "cell_type": "code",
      "source": [
        "user = int(input(\"enter the number of rows: \"))\n",
        "for i in range(user,0,-1):\n",
        "  for j in range(1,i+1):\n",
        "#for j in range(i+1,user):\n",
        "    print(j,end=\" \")\n",
        "  print()"
      ],
      "metadata": {
        "colab": {
          "base_uri": "https://localhost:8080/"
        },
        "id": "XEq6K0fqIqaL",
        "outputId": "2e7873da-bf55-403f-a1b2-3cc9e7d5730d"
      },
      "execution_count": 66,
      "outputs": [
        {
          "output_type": "stream",
          "name": "stdout",
          "text": [
            "enter the number of rows: 5\n",
            "1 2 3 4 5 \n",
            "1 2 3 4 \n",
            "1 2 3 \n",
            "1 2 \n",
            "1 \n"
          ]
        }
      ]
    },
    {
      "cell_type": "code",
      "source": [
        "name = input(\"enter your name\")\n",
        "itereation = len(name)\n",
        "for i in range(0,itereation):\n",
        "  for j in range(0,itereation):\n",
        "    if (i == j):\n",
        "      print (name[j],sep=\" \",end=\" \")\n",
        "    else:\n",
        "      print (\"*\",sep=\" \",end=\" \")\n",
        "  print()"
      ],
      "metadata": {
        "colab": {
          "base_uri": "https://localhost:8080/"
        },
        "id": "Uc9h6RQ3Lh7a",
        "outputId": "eaf4344f-31ee-46a3-f4c5-87a94fece869"
      },
      "execution_count": 76,
      "outputs": [
        {
          "output_type": "stream",
          "name": "stdout",
          "text": [
            "enter your namesd\n",
            "s * \n",
            "* d \n"
          ]
        }
      ]
    }
  ]
}